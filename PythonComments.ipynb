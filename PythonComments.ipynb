{
  "nbformat": 4,
  "nbformat_minor": 0,
  "metadata": {
    "colab": {
      "name": "PythonComments.ipynb",
      "private_outputs": true,
      "provenance": [],
      "authorship_tag": "ABX9TyOOcXwtqzDl7yU0CKxbEbim",
      "include_colab_link": true
    },
    "kernelspec": {
      "name": "python3",
      "display_name": "Python 3"
    },
    "language_info": {
      "name": "python"
    }
  },
  "cells": [
    {
      "cell_type": "markdown",
      "metadata": {
        "id": "view-in-github",
        "colab_type": "text"
      },
      "source": [
        "<a href=\"https://colab.research.google.com/github/PQTKha/learn-python/blob/LearnPython/PythonComments.ipynb\" target=\"_parent\"><img src=\"https://colab.research.google.com/assets/colab-badge.svg\" alt=\"Open In Colab\"/></a>"
      ]
    },
    {
      "cell_type": "markdown",
      "metadata": {
        "id": "hS7Gq-ZK-t8U"
      },
      "source": [
        "# **PYTHON COMMENTS**\n",
        "\n",
        "---\n",
        "\n"
      ]
    },
    {
      "cell_type": "markdown",
      "metadata": {
        "id": "g05VLkkE-03b"
      },
      "source": [
        "*   Comments can be used to explain Python code\n",
        "*   Comments can be used to make the code more readable\n",
        "*   Comments can be used to prevent execution when testing code"
      ]
    },
    {
      "cell_type": "markdown",
      "metadata": {
        "id": "RT9LJ4Z5_i_r"
      },
      "source": [
        "# **1. Creating a comment**"
      ]
    },
    {
      "cell_type": "markdown",
      "metadata": {
        "id": "h5v2jVwW_mq-"
      },
      "source": [
        "Comments starts with a #, and Python will ignore them:"
      ]
    },
    {
      "cell_type": "code",
      "metadata": {
        "id": "wUvS1doE-nOg"
      },
      "source": [
        "#This is a comment\n",
        "print (\"Hello, Python!\")"
      ],
      "execution_count": null,
      "outputs": []
    },
    {
      "cell_type": "markdown",
      "metadata": {
        "id": "kkHX5lAQ_68_"
      },
      "source": [
        "Comments can be places at the end of a line, and Python will ignore the rest of the line:"
      ]
    },
    {
      "cell_type": "code",
      "metadata": {
        "id": "KC7aR-brAHWH"
      },
      "source": [
        "print (\"Hello, Python!\") #This is a comment which place at the end of code"
      ],
      "execution_count": null,
      "outputs": []
    },
    {
      "cell_type": "markdown",
      "metadata": {
        "id": "tbRaJe05AWrb"
      },
      "source": [
        "A comment does not have to be text that explains the code, it can also be used to prevent Python from executeing code:"
      ]
    },
    {
      "cell_type": "code",
      "metadata": {
        "id": "tYhMg9ViDDKK"
      },
      "source": [
        "#print (\"Hello, Python!\")\n",
        "print (\"Hello, Viet Hoang!\")"
      ],
      "execution_count": null,
      "outputs": []
    },
    {
      "cell_type": "markdown",
      "metadata": {
        "id": "yZ1W6m4iDNY-"
      },
      "source": [
        "# **2. Multi line comments**"
      ]
    },
    {
      "cell_type": "markdown",
      "metadata": {
        "id": "pyNY3yFXDR2P"
      },
      "source": [
        "Python does not really have a syntax for multi line comments. To add a multiline comment you could insert a # for each line:"
      ]
    },
    {
      "cell_type": "code",
      "metadata": {
        "id": "n7RjmS_eDvNa"
      },
      "source": [
        "#This is a comment\n",
        "#written in \n",
        "#more than just one line\n",
        "print (\"Hello, Python!\")"
      ],
      "execution_count": null,
      "outputs": []
    },
    {
      "cell_type": "markdown",
      "metadata": {
        "id": "z93Vr_JiD6wn"
      },
      "source": [
        "Or, not quite as intended, you can use a multiline string. Since Python will ignore string literals that are not assigned to a variable, you can add a multiline string (triple quotes) in your code, and place your comment inside it:"
      ]
    },
    {
      "cell_type": "code",
      "metadata": {
        "id": "kon0mOASEaUI"
      },
      "source": [
        "\"\"\"\n",
        "This is a comment\n",
        "written in \n",
        "more than just one line\n",
        "\"\"\"\n",
        "print (\"Hello, Python!\")"
      ],
      "execution_count": null,
      "outputs": []
    },
    {
      "cell_type": "markdown",
      "metadata": {
        "id": "60Vtq6foEpnX"
      },
      "source": [
        "As long as the string is not assigned to a variable, Python will read the code, but then ignore it, and you have made a multiline comment. "
      ]
    }
  ]
}