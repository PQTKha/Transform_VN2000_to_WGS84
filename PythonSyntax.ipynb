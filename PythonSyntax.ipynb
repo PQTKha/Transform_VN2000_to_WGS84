{
  "nbformat": 4,
  "nbformat_minor": 0,
  "metadata": {
    "colab": {
      "name": "PythonSyntax.ipynb",
      "private_outputs": true,
      "provenance": [],
      "authorship_tag": "ABX9TyNUPVnwFGYJ+KzJeQulPdIO",
      "include_colab_link": true
    },
    "kernelspec": {
      "name": "python3",
      "display_name": "Python 3"
    },
    "language_info": {
      "name": "python"
    }
  },
  "cells": [
    {
      "cell_type": "markdown",
      "metadata": {
        "id": "view-in-github",
        "colab_type": "text"
      },
      "source": [
        "<a href=\"https://colab.research.google.com/github/PQTKha/learn-python/blob/LearnPython/PythonSyntax.ipynb\" target=\"_parent\"><img src=\"https://colab.research.google.com/assets/colab-badge.svg\" alt=\"Open In Colab\"/></a>"
      ]
    },
    {
      "cell_type": "markdown",
      "metadata": {
        "id": "hIc5xJiuBKg-"
      },
      "source": [
        "# **PYTHON SYNTAX**\n",
        "\n",
        "---\n",
        "\n"
      ]
    },
    {
      "cell_type": "markdown",
      "metadata": {
        "id": "5BQSUfkeBQrs"
      },
      "source": [
        "# **1. Execute Python Syntax**"
      ]
    },
    {
      "cell_type": "markdown",
      "metadata": {
        "id": "rwfwi0N8BYff"
      },
      "source": [
        "As we learned in the previous page, Python syntax can be executed by writing directly in the Command Line or by creating a python file on the server, using the .py file extension, and running it in the Command Line. But now, I learn Python and use Colab Google such as text editor. "
      ]
    },
    {
      "cell_type": "code",
      "metadata": {
        "id": "yss5nICNBG4B"
      },
      "source": [
        "print (\"Hello, Python!\")"
      ],
      "execution_count": null,
      "outputs": []
    },
    {
      "cell_type": "markdown",
      "metadata": {
        "id": "4_I7XBrACP7B"
      },
      "source": [
        "# **2. Python Indentation**"
      ]
    },
    {
      "cell_type": "markdown",
      "metadata": {
        "id": "pY9scPKgCZKU"
      },
      "source": [
        "Indentation refers to the spaces at the beginning of a code line. Where in other programming languages the indentation in code is for readability only, the indentation in Python is very important.\n",
        "\n",
        "\n",
        "*   Python uses indentation to indicate a block of code\n",
        "*   Python will give you an error if you skip the indentation\n",
        "*   The number of spaces is up to you as programmer, but it has to be at least one\n",
        "*   You have to use the same number of spaces in the same block of code, otherwise python will give you an error\n",
        "\n"
      ]
    },
    {
      "cell_type": "code",
      "metadata": {
        "id": "QZ9fg5W9INkH"
      },
      "source": [
        "if 5>2:\n",
        "    print (\"Five is greater than two\") #right indentation"
      ],
      "execution_count": null,
      "outputs": []
    },
    {
      "cell_type": "code",
      "metadata": {
        "id": "FsJTYJN-IfXS"
      },
      "source": [
        "if 5>2:\n",
        "print (\"Five is greater than two\") #wrong indentation, Python will give an error"
      ],
      "execution_count": null,
      "outputs": []
    },
    {
      "cell_type": "code",
      "metadata": {
        "id": "ez2K6gY9Ityp"
      },
      "source": [
        "if 5>2:\n",
        "  print(\"Five is greater than two\") #The number of spaces is up to you, but it has to be at least one\n",
        "if 7> 3:\n",
        "      print (\"Seven is greater than three\")"
      ],
      "execution_count": null,
      "outputs": []
    },
    {
      "cell_type": "code",
      "metadata": {
        "id": "NxkGQWqwJotP"
      },
      "source": [
        "if 5>2:\n",
        "  print(\"Five is greater than two\")\n",
        "    print(\"Two is smaller than five\") #wrong indentation - you have to use the same number spaces in the same block of code, otherwise Python will give you an error"
      ],
      "execution_count": null,
      "outputs": []
    },
    {
      "cell_type": "markdown",
      "metadata": {
        "id": "3RR-sZftMHuS"
      },
      "source": [
        "# **3. Python Variables**"
      ]
    },
    {
      "cell_type": "markdown",
      "metadata": {
        "id": "9oycjYh8MNb0"
      },
      "source": [
        "In python, variables are created when you assign a value to it:"
      ]
    },
    {
      "cell_type": "code",
      "metadata": {
        "id": "Bld4ARiNMc9a"
      },
      "source": [
        "x = 5\n",
        "y = \"Hello, Python!\""
      ],
      "execution_count": null,
      "outputs": []
    },
    {
      "cell_type": "markdown",
      "metadata": {
        "id": "Okhz2s7XMvGf"
      },
      "source": [
        "Python has no command for declaring a variable. "
      ]
    },
    {
      "cell_type": "markdown",
      "metadata": {
        "id": "lDToWGZiNPMv"
      },
      "source": [
        "# **4. Comments**"
      ]
    },
    {
      "cell_type": "markdown",
      "metadata": {
        "id": "DBl6V2gJNTLj"
      },
      "source": [
        "Python has commenting capability for the purpose of in-code documentation. Comments start with a #, and Python will render the rest of the line as a comment:"
      ]
    },
    {
      "cell_type": "code",
      "metadata": {
        "id": "w4eGw7TONrQw"
      },
      "source": [
        "#This is a comment\n",
        "print (\"Hello, Python!\")"
      ],
      "execution_count": null,
      "outputs": []
    }
  ]
}