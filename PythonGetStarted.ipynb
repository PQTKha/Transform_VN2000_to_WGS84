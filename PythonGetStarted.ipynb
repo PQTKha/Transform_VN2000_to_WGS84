{
  "nbformat": 4,
  "nbformat_minor": 0,
  "metadata": {
    "colab": {
      "name": "PythonGetStarted.ipynb",
      "private_outputs": true,
      "provenance": [],
      "authorship_tag": "ABX9TyMYKIV6j5wgRDFDjlrnkdbV",
      "include_colab_link": true
    },
    "kernelspec": {
      "name": "python3",
      "display_name": "Python 3"
    },
    "language_info": {
      "name": "python"
    }
  },
  "cells": [
    {
      "cell_type": "markdown",
      "metadata": {
        "id": "view-in-github",
        "colab_type": "text"
      },
      "source": [
        "<a href=\"https://colab.research.google.com/github/PQTKha/learn-python/blob/LearnPython/PythonGetStarted.ipynb\" target=\"_parent\"><img src=\"https://colab.research.google.com/assets/colab-badge.svg\" alt=\"Open In Colab\"/></a>"
      ]
    },
    {
      "cell_type": "markdown",
      "metadata": {
        "id": "b7KlDMoB3onr"
      },
      "source": [
        "# **PYTHON GET STARTED**"
      ]
    },
    {
      "cell_type": "markdown",
      "metadata": {
        "id": "925Om21A3veD"
      },
      "source": [
        "# **1. Python Install**\n",
        "\n",
        "---\n",
        "\n"
      ]
    },
    {
      "cell_type": "markdown",
      "metadata": {
        "id": "9EWF94Bz33_i"
      },
      "source": [
        "Many PCs and Macs will have python already installed. To check if you have python installed on a Window PC, search in the start bar for Python or run the following on the Command Line (cmd.exe):"
      ]
    },
    {
      "cell_type": "code",
      "metadata": {
        "id": "Fd3G7BuO4ZG3"
      },
      "source": [
        "! python --version"
      ],
      "execution_count": null,
      "outputs": []
    },
    {
      "cell_type": "markdown",
      "metadata": {
        "id": "vWsJaNrf-5wr"
      },
      "source": [
        "# **2. Python Quickstart**"
      ]
    },
    {
      "cell_type": "code",
      "metadata": {
        "id": "ARVO8fDN-_ZP"
      },
      "source": [
        "print (\"Hello, World!\")\n"
      ],
      "execution_count": null,
      "outputs": []
    }
  ]
}