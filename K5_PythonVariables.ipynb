{
  "nbformat": 4,
  "nbformat_minor": 0,
  "metadata": {
    "colab": {
      "name": "K5_PythonVariables.ipynb",
      "private_outputs": true,
      "provenance": [],
      "collapsed_sections": [
        "B_q8NT3LLMcb"
      ],
      "toc_visible": true,
      "authorship_tag": "ABX9TyN/Ltra8NdIMaMNqe7eS1AO",
      "include_colab_link": true
    },
    "kernelspec": {
      "name": "python3",
      "display_name": "Python 3"
    },
    "language_info": {
      "name": "python"
    }
  },
  "cells": [
    {
      "cell_type": "markdown",
      "metadata": {
        "id": "view-in-github",
        "colab_type": "text"
      },
      "source": [
        "<a href=\"https://colab.research.google.com/github/PQTKha/learn-python/blob/LearnPython/K5_PythonVariables.ipynb\" target=\"_parent\"><img src=\"https://colab.research.google.com/assets/colab-badge.svg\" alt=\"Open In Colab\"/></a>"
      ]
    },
    {
      "cell_type": "markdown",
      "metadata": {
        "id": "kbMWR1Zf6gol"
      },
      "source": [
        "# **PYTHON VARIABLES**"
      ]
    },
    {
      "cell_type": "markdown",
      "metadata": {
        "id": "bXtq1HvkKxd4"
      },
      "source": [
        "# **1. PYTHON VARIABLES**\n",
        "\n",
        "---\n",
        "\n"
      ]
    },
    {
      "cell_type": "markdown",
      "metadata": {
        "id": "1BC2aowf2mvH"
      },
      "source": [
        "# **Tóm tắt**"
      ]
    },
    {
      "cell_type": "markdown",
      "metadata": {
        "id": "PcG-G46h2qQ6"
      },
      "source": [
        "\n",
        "\n",
        "*   Biến chứa giá trị của dữ liệu\n",
        "*   Python không có bất cứ 1 lệnh nào để khai báo biến. Mà biến được tạo từ việc gán giá trị từ lần đầu \n",
        "*   Nếu muốn khai báo dạng dữ liệu cho biến có thể thực hiện thông qua gán kiểu\n",
        "*   Kiểm tra kiểu dữ liệu bằng hàm type()\n",
        "*   Có thể sử dụng dấu nháy đơn hoặc nháy kép để khai báo biến cho string\n",
        "*   Trong Python có phân biệt chữ hoa & chữ thường\n",
        "\n"
      ]
    },
    {
      "cell_type": "markdown",
      "metadata": {
        "id": "OvIbIofMK5tY"
      },
      "source": [
        "# **1.1. Variables**"
      ]
    },
    {
      "cell_type": "markdown",
      "metadata": {
        "id": "BIYW0z3eLBtS"
      },
      "source": [
        "Variables are containers for storing data values"
      ]
    },
    {
      "cell_type": "markdown",
      "metadata": {
        "id": "B_q8NT3LLMcb"
      },
      "source": [
        "# **1.2. Creating Variables**"
      ]
    },
    {
      "cell_type": "markdown",
      "metadata": {
        "id": "mfn2qacmLTpv"
      },
      "source": [
        "Python has no command for declaring a variable. \n",
        "A variable is created the moment you first assign a value to it. "
      ]
    },
    {
      "cell_type": "code",
      "metadata": {
        "id": "gBtt_EgdKhPz"
      },
      "source": [
        "x = 5\n",
        "y = \"NASA\"\n",
        "print (x)\n",
        "print (y)"
      ],
      "execution_count": null,
      "outputs": []
    },
    {
      "cell_type": "markdown",
      "metadata": {
        "id": "sAR_0sEOLxGc"
      },
      "source": [
        "Variables do not need to be declared with any particular type, and can even change type after they have been set."
      ]
    },
    {
      "cell_type": "code",
      "metadata": {
        "id": "_9LaHVzRMIOk"
      },
      "source": [
        "x = 5 #X is of type int\n",
        "x = \"NASA\" #x is of type str\n",
        "print (x)"
      ],
      "execution_count": null,
      "outputs": []
    },
    {
      "cell_type": "markdown",
      "metadata": {
        "id": "Csixg6_1MvCB"
      },
      "source": [
        "# **1.3. Casting**"
      ]
    },
    {
      "cell_type": "markdown",
      "metadata": {
        "id": "Q5MTDObiMzrM"
      },
      "source": [
        "If you want to specify the data type of a variable, this can be done with casting"
      ]
    },
    {
      "cell_type": "code",
      "metadata": {
        "id": "vRW_CY90M8zg"
      },
      "source": [
        "x = str(3) # x will be '3'\n",
        "y = int(3) # y will be 3\n",
        "z = float(3) # z will be 3.0\n",
        "print (x)\n",
        "print (y)\n",
        "print (z)\n"
      ],
      "execution_count": null,
      "outputs": []
    },
    {
      "cell_type": "markdown",
      "metadata": {
        "id": "FHMgSK7aNmsN"
      },
      "source": [
        "# **1.4. Get the Type**"
      ]
    },
    {
      "cell_type": "markdown",
      "metadata": {
        "id": "46W2yDii1hxd"
      },
      "source": [
        "You can get the data type of a variable with the type () function"
      ]
    },
    {
      "cell_type": "code",
      "metadata": {
        "id": "sl1Wrvch1oLx"
      },
      "source": [
        "x = 5\n",
        "y = \"NASA\"\n",
        "print (type(x))\n",
        "print (type(y))"
      ],
      "execution_count": null,
      "outputs": []
    },
    {
      "cell_type": "markdown",
      "metadata": {
        "id": "S0FyemjT12D-"
      },
      "source": [
        "# **1.5. Single or double quotes?**"
      ]
    },
    {
      "cell_type": "markdown",
      "metadata": {
        "id": "x1M5lv6_17x-"
      },
      "source": [
        "String variables can be declared either by using single or double quotes"
      ]
    },
    {
      "cell_type": "code",
      "metadata": {
        "id": "Hdi6ToZY2GjY"
      },
      "source": [
        "x = \"NASA\"\n",
        "y = 'NASA'\n",
        "print (x)\n",
        "print (y)"
      ],
      "execution_count": null,
      "outputs": []
    },
    {
      "cell_type": "markdown",
      "metadata": {
        "id": "_gcb89ln2TZf"
      },
      "source": [
        "# **1.6. Case-sensitive**"
      ]
    },
    {
      "cell_type": "markdown",
      "metadata": {
        "id": "j1QvIYqO2Yjv"
      },
      "source": [
        "This will create two variables:"
      ]
    },
    {
      "cell_type": "code",
      "metadata": {
        "id": "6tfjYTSU2cTv"
      },
      "source": [
        "a = 4\n",
        "A = \"NASA\"\n",
        "print (a)\n",
        "print (A)"
      ],
      "execution_count": null,
      "outputs": []
    },
    {
      "cell_type": "markdown",
      "metadata": {
        "id": "4hqDADdw35EE"
      },
      "source": [
        "# **2. VARIABLE NAMES**\n",
        "\n",
        "---\n",
        "\n"
      ]
    },
    {
      "cell_type": "markdown",
      "metadata": {
        "id": "P5hK6A8o3_4K"
      },
      "source": [
        "# **2.1. Variable Names**"
      ]
    },
    {
      "cell_type": "markdown",
      "metadata": {
        "id": "t4vadKih4StB"
      },
      "source": [
        "A variable can have a short name (like x and y) or more descriptive name (age, carname, total_volume). Rules for python variables:\n",
        "*   A variable name must start with a letter or the underscore character\n",
        "*   A variable name cannot start with a number\n",
        "*   A variable name can only contain alpha-numeric characters and underscores (A-Z, 0-9, and _)"
      ]
    },
    {
      "cell_type": "code",
      "metadata": {
        "id": "BK-0ShEb4-Nx"
      },
      "source": [
        "myvar = \"NASA\"\n",
        "print(myvar)\n",
        "my_var = \"NASA\"\n",
        "print(my_var)\n",
        "_my_var = \"NASA\"\n",
        "print(_my_var)\n",
        "myVar = \"NASA\"\n",
        "print(myVar)\n",
        "MYVAR = \"NASA\"\n",
        "print(MYVAR)\n",
        "myvar2 = \"NASA\"\n",
        "print(myvar2)"
      ],
      "execution_count": null,
      "outputs": []
    },
    {
      "cell_type": "markdown",
      "metadata": {
        "id": "X-BUBh7857bt"
      },
      "source": [
        "Illegal variable names:"
      ]
    },
    {
      "cell_type": "code",
      "metadata": {
        "id": "ZcqJAVaS6C6j"
      },
      "source": [
        "2myvar = \"NASA\" #khong bat dau bang chu so\n",
        "my-var = \"NASA\" #chi chap nhan dau _\n",
        "my var = \"NASA\" #khong duoc co dau khoang trang"
      ],
      "execution_count": null,
      "outputs": []
    },
    {
      "cell_type": "markdown",
      "metadata": {
        "id": "jnCowstD6vrG"
      },
      "source": [
        "# **2.2. Multi Words Variable Names**"
      ]
    },
    {
      "cell_type": "markdown",
      "metadata": {
        "id": "e988CTiR65kl"
      },
      "source": [
        "Variable names with more than one word can be difficult to read. There are several techniques you can use to make them more readable:"
      ]
    },
    {
      "cell_type": "markdown",
      "metadata": {
        "id": "Jng8-CJd7OcB"
      },
      "source": [
        "**Camel case**"
      ]
    },
    {
      "cell_type": "markdown",
      "metadata": {
        "id": "wmA0Bhl07aat"
      },
      "source": [
        "Each word, except the first, starts with a capital letter:"
      ]
    },
    {
      "cell_type": "code",
      "metadata": {
        "id": "qAxHMxCj7i9b"
      },
      "source": [
        "myVariableName = \"NASA\"\n",
        "print (myVariableName)"
      ],
      "execution_count": null,
      "outputs": []
    },
    {
      "cell_type": "markdown",
      "metadata": {
        "id": "aNXFNzro8AFi"
      },
      "source": [
        "**Pascal Case**"
      ]
    },
    {
      "cell_type": "markdown",
      "metadata": {
        "id": "IwSTL0ZI8C6R"
      },
      "source": [
        "Each word starts with a capital letter:"
      ]
    },
    {
      "cell_type": "code",
      "metadata": {
        "id": "xNf00THv8NHD"
      },
      "source": [
        "MyVariableName = \"NASA\"\n",
        "print (MyVariableName)"
      ],
      "execution_count": null,
      "outputs": []
    },
    {
      "cell_type": "markdown",
      "metadata": {
        "id": "VcCvd50dBXPM"
      },
      "source": [
        "**Snake Case**"
      ]
    },
    {
      "cell_type": "markdown",
      "metadata": {
        "id": "Q3XdMKN4BayK"
      },
      "source": [
        "Each word is separated by an underscore character:"
      ]
    },
    {
      "cell_type": "code",
      "metadata": {
        "id": "tHlbwZS2CMBd"
      },
      "source": [
        "my_variable_name =\"NASA\"\n",
        "print(my_variable_name)"
      ],
      "execution_count": null,
      "outputs": []
    },
    {
      "cell_type": "markdown",
      "metadata": {
        "id": "1Xj-eSbnCtNt"
      },
      "source": [
        "# **3. PYTHON VARIABLES - ASSIGN MULTIPLE VALUES**\n",
        "\n",
        "---\n",
        "\n"
      ]
    },
    {
      "cell_type": "markdown",
      "metadata": {
        "id": "-8jdU4zgD_Np"
      },
      "source": [
        "# **3.1. Many Values to Multiple Variables**"
      ]
    },
    {
      "cell_type": "markdown",
      "metadata": {
        "id": "UBngo-ZVC-hH"
      },
      "source": [
        "Python allows you to assign values to multiple variables in one line:"
      ]
    },
    {
      "cell_type": "code",
      "metadata": {
        "id": "CqxKgJ25Ev1H"
      },
      "source": [
        "x, y, z = \"Orange\", \"Banana\", \"Cherry\"\n",
        "print (x)\n",
        "print (y)\n",
        "print (z)"
      ],
      "execution_count": null,
      "outputs": []
    },
    {
      "cell_type": "markdown",
      "metadata": {
        "id": "4451BfJSFMtS"
      },
      "source": [
        "Note: make sure the number of variables matches the number of values, or else you will get an error. "
      ]
    },
    {
      "cell_type": "markdown",
      "metadata": {
        "id": "YtMWvOlWqURV"
      },
      "source": [
        "# **3.2. One Value to multiple Variables**"
      ]
    },
    {
      "cell_type": "markdown",
      "metadata": {
        "id": "HgObhGZcqZyS"
      },
      "source": [
        "And you can assign the same value to multiple variables in one line:"
      ]
    },
    {
      "cell_type": "code",
      "metadata": {
        "id": "pzoGW_UTqqNW"
      },
      "source": [
        "x = y = z = \"Orange\"\n",
        "print (x)\n",
        "print (y)\n",
        "print (z)"
      ],
      "execution_count": null,
      "outputs": []
    },
    {
      "cell_type": "markdown",
      "metadata": {
        "id": "G50APe8Nq2Zd"
      },
      "source": [
        "# **3.3. Unpack a collection**"
      ]
    },
    {
      "cell_type": "markdown",
      "metadata": {
        "id": "4pzWkTEYq6i9"
      },
      "source": [
        "If yoy have a collection of values in a lust, tuple etc. Python allows you extract the values into variables. This is called unpacking."
      ]
    },
    {
      "cell_type": "code",
      "metadata": {
        "id": "z-arAXztrIMz"
      },
      "source": [
        "fruits =[\"apple\", \"banana\", \"cherry\", \"orange\"]\n",
        "x, y, z, t = fruits\n",
        "print (x)\n",
        "print (y)\n",
        "print (z)\n",
        "print (t)"
      ],
      "execution_count": null,
      "outputs": []
    },
    {
      "cell_type": "markdown",
      "metadata": {
        "id": "V1erTo0MrlZp"
      },
      "source": [
        "# **4. OUTPUT VARIABLES**\n",
        "\n",
        "---\n",
        "\n"
      ]
    },
    {
      "cell_type": "markdown",
      "metadata": {
        "id": "aWA2Ob5HrqUl"
      },
      "source": [
        "The Python print statement is often used to output variables. To combine both text and a variable, Python uses the + character:"
      ]
    },
    {
      "cell_type": "code",
      "metadata": {
        "id": "lBCKRnWgr5_h"
      },
      "source": [
        "x = \"awesome\"\n",
        "print (\"python is \"+ x)"
      ],
      "execution_count": null,
      "outputs": []
    },
    {
      "cell_type": "markdown",
      "metadata": {
        "id": "XxwQ32MzsF4P"
      },
      "source": [
        "You can also use the + character to add a variable to another variable: "
      ]
    },
    {
      "cell_type": "code",
      "metadata": {
        "id": "bKFAHqkfsOdO"
      },
      "source": [
        "x =  \"Python is \"\n",
        "y = \"awesome\"\n",
        "print (x+y)\n",
        "z = x + y\n",
        "print (z)"
      ],
      "execution_count": null,
      "outputs": []
    },
    {
      "cell_type": "markdown",
      "metadata": {
        "id": "vbbvZ-z05baU"
      },
      "source": [
        "For numbers, the + character work as a mathematical operator:"
      ]
    },
    {
      "cell_type": "code",
      "metadata": {
        "id": "8FxeUULb5lg2"
      },
      "source": [
        "x = 5\n",
        "y = 10\n",
        "print (x+y)"
      ],
      "execution_count": null,
      "outputs": []
    },
    {
      "cell_type": "markdown",
      "metadata": {
        "id": "2HQjY34o-XkJ"
      },
      "source": [
        "If you try to combine a string and a number, Python will give you an error:"
      ]
    },
    {
      "cell_type": "code",
      "metadata": {
        "id": "OqGsfrIM-fpZ"
      },
      "source": [
        "x= 5\n",
        "y= \"NASA\"\n",
        "print (x+y) "
      ],
      "execution_count": null,
      "outputs": []
    },
    {
      "cell_type": "markdown",
      "metadata": {
        "id": "XjewD01L-okN"
      },
      "source": [
        "# **5. GLOBAL VARIABLES**\n",
        "\n",
        "---\n",
        "\n"
      ]
    },
    {
      "cell_type": "markdown",
      "metadata": {
        "id": "dQnFNatTBFDZ"
      },
      "source": [
        "# **5.1. Global variables**"
      ]
    },
    {
      "cell_type": "markdown",
      "metadata": {
        "id": "24bTAFVm-9lx"
      },
      "source": [
        "Variables that are created outside of a function (as in all the examples above) are known as global variables. Global variables can be used by everyone, both inside of functions and outside. "
      ]
    },
    {
      "cell_type": "markdown",
      "metadata": {
        "id": "Jmm-WTmc_V-I"
      },
      "source": [
        "Example: Create a variable outside of a function, and use it inside the function"
      ]
    },
    {
      "cell_type": "code",
      "metadata": {
        "id": "2MO7sv2__egR"
      },
      "source": [
        "x= \"awesome\"\n",
        "def myfunc():\n",
        "  print(\"Python is \"+ x)\n",
        "myfunc()"
      ],
      "execution_count": null,
      "outputs": []
    },
    {
      "cell_type": "markdown",
      "metadata": {
        "id": "6QK8vZ-c_yys"
      },
      "source": [
        "If you create a variable with the same name inside a function, this variable will be local, and can only be used inside the function. The global variable with the same name will remain as it was, global and with the original value."
      ]
    },
    {
      "cell_type": "markdown",
      "metadata": {
        "id": "ARlBVVovAbD4"
      },
      "source": [
        "Example: Create a variable inside a function, with the same name as the global variable"
      ]
    },
    {
      "cell_type": "code",
      "metadata": {
        "id": "2fsjlcL5Ajgu"
      },
      "source": [
        "x = \"awesome\"\n",
        "def myfunc ():\n",
        "  x = \"fantastic\"\n",
        "  print (\"Python is \" + x)\n",
        "myfunc()\n",
        "print (\"Python is \"+ x)\n"
      ],
      "execution_count": null,
      "outputs": []
    },
    {
      "cell_type": "markdown",
      "metadata": {
        "id": "FM3Fgt_LBJjJ"
      },
      "source": [
        "# **5.2. The global Keyword**"
      ]
    },
    {
      "cell_type": "markdown",
      "metadata": {
        "id": "tPEQqus7BPlv"
      },
      "source": [
        "Normally, when you create a variable inside a function, that variable is local, and can only be used inside that function. To create a global variable inside a function, you can use the global keyword to assign the variable as global variable."
      ]
    },
    {
      "cell_type": "markdown",
      "metadata": {
        "id": "lLfLvZXOBs6B"
      },
      "source": [
        "Example: If you use the global keyword, the variable belongs to the global scope:"
      ]
    },
    {
      "cell_type": "code",
      "metadata": {
        "id": "ccxhYv0UB2Ra"
      },
      "source": [
        "def myfunc():\n",
        "  global x\n",
        "  x = \"fantastic\"\n",
        "myfunc()\n",
        "print (\"Python is \"+ x)"
      ],
      "execution_count": null,
      "outputs": []
    },
    {
      "cell_type": "markdown",
      "metadata": {
        "id": "PdXbVQhICGhd"
      },
      "source": [
        "Also, use the global keyword if you want to change a global variable inside a function. \n"
      ]
    },
    {
      "cell_type": "markdown",
      "metadata": {
        "id": "fGrlR9ubCP6v"
      },
      "source": [
        "Example:  to change the value of a global variable inside a function, refer to the variable by using the global keyword:"
      ]
    },
    {
      "cell_type": "code",
      "metadata": {
        "id": "_ndn08YeCamG"
      },
      "source": [
        "x = \"awesome\"\n",
        "\n",
        "def myfunc():\n",
        "  global x\n",
        "  x = \"fantastic\"\n",
        "\n",
        "myfunc()\n",
        "print (\"Python is \"+ x)"
      ],
      "execution_count": null,
      "outputs": []
    },
    {
      "cell_type": "markdown",
      "metadata": {
        "id": "cYWxDGDQCxoN"
      },
      "source": [
        "# **6. VARIABLE EXERCISES**\n",
        "\n",
        "---\n",
        "\n"
      ]
    },
    {
      "cell_type": "markdown",
      "metadata": {
        "id": "8iAgsL4OC4zZ"
      },
      "source": [
        "# **6.1. Test yourself with exercises**"
      ]
    },
    {
      "cell_type": "markdown",
      "metadata": {
        "id": "QryInMt1DCEW"
      },
      "source": [
        "Now you have learned a lot about variables, and how to use them in Python. Are you ready for a test?\n",
        "Try to insert the missing part to make the code work as expected: "
      ]
    },
    {
      "cell_type": "markdown",
      "metadata": {
        "id": "ZTm7UNVgDT5-"
      },
      "source": [
        "Exercise 1:\n",
        "Create a variable named carname and assign the value Volvo to it"
      ]
    },
    {
      "cell_type": "code",
      "metadata": {
        "id": "GE-RfVhXDdfg"
      },
      "source": [
        "carname = \"Volvo\"\n",
        "print (carname)"
      ],
      "execution_count": null,
      "outputs": []
    },
    {
      "cell_type": "markdown",
      "metadata": {
        "id": "cErL7bCiDstE"
      },
      "source": [
        "Exercise 2:  Create a variable named x and assign the value 50 to it."
      ]
    },
    {
      "cell_type": "code",
      "metadata": {
        "id": "E8nK-iYCD2xy"
      },
      "source": [
        "x = 50\n",
        "print (x)"
      ],
      "execution_count": null,
      "outputs": []
    },
    {
      "cell_type": "markdown",
      "metadata": {
        "id": "E_1CHxLAD8ZT"
      },
      "source": [
        "Exercise 3:  Display the sum of 5+10, using two variables: x and y"
      ]
    },
    {
      "cell_type": "code",
      "metadata": {
        "id": "qKE4lPQFENiQ"
      },
      "source": [
        "x = 5\n",
        "y = 10\n",
        "print (x+y)"
      ],
      "execution_count": null,
      "outputs": []
    },
    {
      "cell_type": "markdown",
      "metadata": {
        "id": "2CJQCXU5EYQa"
      },
      "source": [
        "Exercise 4: Create a variable called z, assign x + y to it, and display the result. "
      ]
    },
    {
      "cell_type": "code",
      "metadata": {
        "id": "ybl1xMX6Eiv0"
      },
      "source": [
        "x = 5\n",
        "y = 10\n",
        "z = x + y\n",
        "print (z)"
      ],
      "execution_count": null,
      "outputs": []
    },
    {
      "cell_type": "markdown",
      "metadata": {
        "id": "xKCsn1OLEvND"
      },
      "source": [
        "Exercise 5: Remove the illegal characters in the variable name:"
      ]
    },
    {
      "cell_type": "code",
      "metadata": {
        "id": "MdZ5HGwME2SB"
      },
      "source": [
        "#2my-first_name = \"NASA\"\n",
        "my_first_name = \"NASA\" #Pascal case\n",
        "print (my_first_name)"
      ],
      "execution_count": null,
      "outputs": []
    },
    {
      "cell_type": "markdown",
      "metadata": {
        "id": "srMoancRFMg-"
      },
      "source": [
        "Exercise 6: Insert the correct syntax to assign the same value to all three variables in one code line: "
      ]
    },
    {
      "cell_type": "code",
      "metadata": {
        "id": "y6-RvgYMFkR5"
      },
      "source": [
        "x = y = z = \"orange\"\n",
        "print (x, y, z)"
      ],
      "execution_count": null,
      "outputs": []
    },
    {
      "cell_type": "markdown",
      "metadata": {
        "id": "8Gxn2X4FFvwK"
      },
      "source": [
        "Exercise 7: Inset the correct keyword to make the variable x belong to the global scope"
      ]
    },
    {
      "cell_type": "code",
      "metadata": {
        "id": "GLkqpXxFF39U"
      },
      "source": [
        "def myfunc():\n",
        "  global x\n",
        "  x = \"fantastic\"\n",
        "\n",
        "myfunc ()\n",
        "print (\"Python is \" + x)"
      ],
      "execution_count": null,
      "outputs": []
    }
  ]
}