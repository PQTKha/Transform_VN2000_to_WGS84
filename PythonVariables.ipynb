{
  "nbformat": 4,
  "nbformat_minor": 0,
  "metadata": {
    "colab": {
      "name": "PythonVariables.ipynb",
      "private_outputs": true,
      "provenance": [],
      "collapsed_sections": [
        "jBrhkqRB71Oh",
        "v-1dYea470HN",
        "BuFDgtzL9fju"
      ],
      "authorship_tag": "ABX9TyP007aLXDHD6Sr6bS7qtkHU",
      "include_colab_link": true
    },
    "kernelspec": {
      "name": "python3",
      "display_name": "Python 3"
    },
    "language_info": {
      "name": "python"
    }
  },
  "cells": [
    {
      "cell_type": "markdown",
      "metadata": {
        "id": "view-in-github",
        "colab_type": "text"
      },
      "source": [
        "<a href=\"https://colab.research.google.com/github/PQTKha/learn-python/blob/LearnPython/PythonVariables.ipynb\" target=\"_parent\"><img src=\"https://colab.research.google.com/assets/colab-badge.svg\" alt=\"Open In Colab\"/></a>"
      ]
    },
    {
      "cell_type": "markdown",
      "metadata": {
        "id": "yd8wNf8K_EBe"
      },
      "source": [
        "# **PYTHON VARIABLES - ASSIGN MULTIPLE VALUES**"
      ]
    },
    {
      "cell_type": "markdown",
      "metadata": {
        "id": "jBrhkqRB71Oh"
      },
      "source": [
        "**1. Many values to Multiple variables**\n",
        "---\n",
        "*Python allows you to assign values to multiple variables in one line:*\n"
      ]
    },
    {
      "cell_type": "code",
      "metadata": {
        "id": "FYKLo0U26hfV"
      },
      "source": [
        "#Many Values to multiple variables\n",
        "#Python allows you to assign values to multiple variables in one line:\n",
        "x, y, z = \"Orange\", \"Bannana\", \"Cherry\"\n",
        "print (x)\n",
        "print (y)\n",
        "print (z)"
      ],
      "execution_count": null,
      "outputs": []
    },
    {
      "cell_type": "markdown",
      "metadata": {
        "id": "v-1dYea470HN"
      },
      "source": [
        "**2. One Value to multiple variables**\n",
        "---\n",
        "*And you can assign the same value to multiple variables in one line:*\n"
      ]
    },
    {
      "cell_type": "code",
      "metadata": {
        "id": "ABsJdYvB7oq6"
      },
      "source": [
        "x= y= z = \"Orange\" #sử dụng dấu bằng để gán các biến số có giá trị bằng nhau\n",
        "print (x)\n",
        "print (y)\n",
        "print (z)"
      ],
      "execution_count": null,
      "outputs": []
    },
    {
      "cell_type": "markdown",
      "metadata": {
        "id": "BuFDgtzL9fju"
      },
      "source": [
        "**3. Unpack a collection**\n",
        "---\n",
        "*If you have a collection of values in a list, tuple etc. Python allows you extract the values into variables*\n"
      ]
    },
    {
      "cell_type": "code",
      "metadata": {
        "id": "jouNRcnt909G"
      },
      "source": [
        "fruits = [\"apple\", \"banana\", \"cherry\", \"orange\"] #Sử dụng dấu ngoặc vuông để khai báo chuỗi giá trị\n",
        "x, y, z, k = fruits\n",
        "print (x)\n",
        "print (y)\n",
        "print (z)\n",
        "print (k)"
      ],
      "execution_count": null,
      "outputs": []
    },
    {
      "cell_type": "markdown",
      "metadata": {
        "id": "pWF0hMV8_rni"
      },
      "source": [
        "# **PYTHON - OUTPUT VARIABLES**"
      ]
    },
    {
      "cell_type": "markdown",
      "metadata": {
        "id": "svk4ZClg_5bc"
      },
      "source": [
        ""
      ]
    },
    {
      "cell_type": "code",
      "metadata": {
        "id": "Ff_zB387_2DH"
      },
      "source": [
        ""
      ],
      "execution_count": null,
      "outputs": []
    }
  ]
}