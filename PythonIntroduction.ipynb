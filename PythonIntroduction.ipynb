{
  "nbformat": 4,
  "nbformat_minor": 0,
  "metadata": {
    "colab": {
      "name": "PythonIntroduction.ipynb",
      "private_outputs": true,
      "provenance": [],
      "authorship_tag": "ABX9TyOtbakd/Rve/oKQK4kXQ9ia",
      "include_colab_link": true
    },
    "kernelspec": {
      "name": "python3",
      "display_name": "Python 3"
    },
    "language_info": {
      "name": "python"
    }
  },
  "cells": [
    {
      "cell_type": "markdown",
      "metadata": {
        "id": "view-in-github",
        "colab_type": "text"
      },
      "source": [
        "<a href=\"https://colab.research.google.com/github/PQTKha/learn-python/blob/LearnPython/PythonIntroduction.ipynb\" target=\"_parent\"><img src=\"https://colab.research.google.com/assets/colab-badge.svg\" alt=\"Open In Colab\"/></a>"
      ]
    },
    {
      "cell_type": "markdown",
      "metadata": {
        "id": "OQK8dvosJ8XK"
      },
      "source": [
        "# **What is Python?**\n",
        "\n",
        "---\n",
        "\n"
      ]
    },
    {
      "cell_type": "markdown",
      "metadata": {
        "id": "rCt2EHE3KKyZ"
      },
      "source": [
        "Python is a popular programming language. It was created by Guido Van Rossum, and released in 1991.\n",
        "\n",
        "> It is used for:\n",
        "\n",
        "*   web development (server-side),\n",
        "*   software development,\n",
        "*   mathematics, \n",
        "*   system scripting.\n",
        "\n",
        "\n",
        "\n",
        "\n",
        "\n",
        "\n"
      ]
    },
    {
      "cell_type": "markdown",
      "metadata": {
        "id": "nukrrr29MW7H"
      },
      "source": [
        "# **What can Python do?**\n",
        "\n",
        "---\n",
        "\n"
      ]
    },
    {
      "cell_type": "markdown",
      "metadata": {
        "id": "vON1yWtDMgmS"
      },
      "source": [
        "\n",
        "\n",
        "*   Python can be used on a server to create web applications.\n",
        "*   Python can be used alongside software to create workflows.\n",
        "*   Python can connect to database systems. It can also read and modify files\n",
        "*   Python can be used to handle big data and perform complex mathematics\n",
        "*   Python can be used for rapid prototyping, or for production-ready software development.\n",
        "\n",
        "\n",
        "\n"
      ]
    },
    {
      "cell_type": "markdown",
      "metadata": {
        "id": "YetivPO4Nx88"
      },
      "source": [
        "# **Why Python?**\n",
        "\n",
        "---\n",
        "\n"
      ]
    },
    {
      "cell_type": "markdown",
      "metadata": {
        "id": "eHH2pd8BN75N"
      },
      "source": [
        "*   Python works on different platform (window, mac, linux, rasberry pi, etc)\n",
        "*   Python has a simple syntax similar to the English language. \n",
        "*   Python has syntax that allows developers to write programs with fewer lines than some other programming languages. \n",
        "*   Python run on an interpreter system, meaning that code can be executed as soon as it is written. This means that prototyping can be very quick. \n",
        "*   Python can be treated in a procedural way, an object-oriented way or a functional way. \n",
        "\n"
      ]
    },
    {
      "cell_type": "markdown",
      "metadata": {
        "id": "Agtdvsf4XV3C"
      },
      "source": [
        "# **Good to know**\n",
        "\n",
        "---\n",
        "\n"
      ]
    },
    {
      "cell_type": "markdown",
      "metadata": {
        "id": "asxYduxRXc3c"
      },
      "source": [
        "*   The most recent major version of Python is Python 3, which we shall be using in this tutorial. However, Python 2, although not being updated with anything other than security updates, is still quite popular. \n",
        "*   In this tutorial Python will be written in a text editor. It is possible to write Python in an Intergrated Development Environment, such as Thonny, Pycharm, Netbeans or Eclipse which are particulary useful managing larger collections of Python files.\n",
        "\n"
      ]
    }
  ]
}