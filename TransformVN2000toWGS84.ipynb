{
  "nbformat": 4,
  "nbformat_minor": 0,
  "metadata": {
    "colab": {
      "name": "TransformVN2000toWGS84.ipynb",
      "private_outputs": true,
      "provenance": [],
      "authorship_tag": "ABX9TyO6t2VA4GPT+m8Y/f2hgK8Q",
      "include_colab_link": true
    },
    "kernelspec": {
      "name": "python3",
      "display_name": "Python 3"
    },
    "language_info": {
      "name": "python"
    }
  },
  "cells": [
    {
      "cell_type": "markdown",
      "metadata": {
        "id": "view-in-github",
        "colab_type": "text"
      },
      "source": [
        "<a href=\"https://colab.research.google.com/github/PQTKha/learn-python/blob/pqtkha/TransformVN2000toWGS84.ipynb\" target=\"_parent\"><img src=\"https://colab.research.google.com/assets/colab-badge.svg\" alt=\"Open In Colab\"/></a>"
      ]
    },
    {
      "cell_type": "markdown",
      "metadata": {
        "id": "ShSiXGL96ATA"
      },
      "source": [
        "# **CHUYỂN ĐỔI CẶP TỌA ĐỘ TỪ VN2000 VỀ WGS84**"
      ]
    },
    {
      "cell_type": "code",
      "metadata": {
        "id": "1HavD6vHpZl6"
      },
      "source": [
        "!pip install --upgrade -q pyproj"
      ],
      "execution_count": null,
      "outputs": []
    },
    {
      "cell_type": "markdown",
      "metadata": {
        "id": "IjRxoluI5WcZ"
      },
      "source": [
        "**1. KIỂM TRA TẠI THÀNH PHỐ HỒ CHÍ MINH**"
      ]
    },
    {
      "cell_type": "code",
      "metadata": {
        "id": "B-TNaFKPy2f0"
      },
      "source": [
        "#@title Nhập cặp tọa độ VN2000 tại TP.HCM { run: \"auto\", vertical-output: true, display-mode: \"both\" }\n",
        "Toa_do_x = 1204344.47 #@param {type:\"number\"}\n",
        "Toa_do_y = 601942.99 #@param {type:\"number\"}\n",
        "from pyproj import Transformer, crs\n",
        "transformer = Transformer.from_crs (\"epsg:9210\",\"epsg:4326\")\n",
        "x1,y1 = transformer.transform(Toa_do_y, Toa_do_x) \n",
        "a = \"Tọa độ WGS84:\"\n",
        "print (a,x1,y1)"
      ],
      "execution_count": null,
      "outputs": []
    },
    {
      "cell_type": "markdown",
      "metadata": {
        "id": "U-aiiRp66jkQ"
      },
      "source": [
        "**2. KIỂM TRA TẠI HÀ NỘI**"
      ]
    },
    {
      "cell_type": "code",
      "metadata": {
        "id": "HcG_xcCK6hmc"
      },
      "source": [
        "#@title Nhập cặp tọa độ VN2000 tại HÀ NỘI { run: \"auto\", vertical-output: true, display-mode: \"both\" }\n",
        "Toa_do_x = 1196583.786 #@param {type:\"number\"}\n",
        "Toa_do_y = 615257.346 #@param {type:\"number\"}\n",
        "from pyproj import Transformer, crs\n",
        "transformer = Transformer.from_crs (\"epsg:5897\",\"epsg:4326\")\n",
        "x1,y1 = transformer.transform(Toa_do_y, Toa_do_x)\n",
        "a = \"Tọa độ WGS84:\"\n",
        "print (a, x1,y1)"
      ],
      "execution_count": null,
      "outputs": []
    }
  ]
}